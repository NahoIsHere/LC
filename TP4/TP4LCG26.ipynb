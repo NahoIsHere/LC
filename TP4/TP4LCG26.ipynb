{
  "nbformat": 4,
  "nbformat_minor": 0,
  "metadata": {
    "colab": {
      "name": "Untitled1.ipynb",
      "provenance": [],
      "collapsed_sections": []
    },
    "kernelspec": {
      "name": "python3",
      "display_name": "Python 3"
    },
    "language_info": {
      "name": "python"
    }
  },
  "cells": [
    {
      "cell_type": "markdown",
      "source": [
        "# Trabalho Prático 4"
      ],
      "metadata": {
        "id": "50-nMIVBKkvH"
      }
    },
    {
      "cell_type": "markdown",
      "source": [
        "##Ex.1:"
      ],
      "metadata": {
        "id": "Zvfjaid9LH8N"
      }
    },
    {
      "cell_type": "code",
      "execution_count": 125,
      "metadata": {
        "colab": {
          "base_uri": "https://localhost:8080/"
        },
        "id": "0m6M1e39m3C1",
        "outputId": "a341d4aa-1d90-4b0e-aa96-bbf95587598e"
      },
      "outputs": [
        {
          "output_type": "stream",
          "name": "stdout",
          "text": [
            "Requirement already satisfied: pysmt in /usr/local/lib/python3.7/dist-packages (0.9.0)\n",
            "Requirement already satisfied: six in /usr/local/lib/python3.7/dist-packages (from pysmt) (1.15.0)\n",
            "This script allows you to install the solvers supported by pySMT.\n",
            "\n",
            "By executing this script, you confirm that you have read and agreed\n",
            "with the licenses of each solver.\n",
            "\n",
            "Notice: the installation process might require building tools\n",
            "        (e.g., make and gcc).\n",
            "\n",
            "Continue? [Y]es/[N]o: Y\n"
          ]
        }
      ],
      "source": [
        "!pip install pysmt\n",
        "!pysmt-install --z3"
      ]
    },
    {
      "cell_type": "code",
      "source": [
        "from pysmt.shortcuts import *\n",
        "from pysmt.typing import *"
      ],
      "metadata": {
        "id": "GXW6QTfUnZdW"
      },
      "execution_count": 124,
      "outputs": []
    },
    {
      "cell_type": "markdown",
      "source": [
        "1.Considere o seguinte programa, em Python anotado, para multiplicação de dois inteiros de precisão limitada a 16 bits. \n",
        "\n",
        "Prove por indução a terminação deste programa:\n",
        "\n",
        "       assume m >= 0 and n >= 0 and r == 0 and x == m and y == n \n",
        "    0: while y > 0:\n",
        "    1:    if y & 1 == 1: \n",
        "                y,r = y-1 ,r+x\n",
        "    2:    x,y = x << 1 , y >> 1\n",
        "    3: assert r == m*n"
      ],
      "metadata": {
        "id": "qGHVPnrkLYm2"
      }
    },
    {
      "cell_type": "code",
      "source": [
        "def declare(i):\n",
        "    estado = {}\n",
        "    estado['pc'] = Symbol('pc'+str(i), INT)\n",
        "    estado['x'] = Symbol('y'+str(i), BV16)\n",
        "    estado['y'] = Symbol('y'+str(i), BV16)\n",
        "    estado['r'] = Symbol('y'+str(i), BV16)\n",
        "    return estado\n",
        "\n",
        "def init(estado):\n",
        "    return And(BVUGE(estado['y'],BVZero(16)),BVUGE(estado['x'],BVZero(16)),Equals(estado['r'],BVZero(16)),Equals(estado['pc'],Int(0)))\n"
      ],
      "metadata": {
        "id": "UIDFXqFEpplF"
      },
      "execution_count": 123,
      "outputs": []
    },
    {
      "cell_type": "code",
      "source": [
        "\n",
        "def trans(s,p):\n",
        "    t03= And(Equals(s['pc'],Int(0)), BVULE(s['y'],BVZero(16)), Equals(p['pc'],Int(3)), Equals(p['x'],s['x']),Equals(p['y'],s['y']), Equals(p['r'],s['r']))\n",
        "    t01= And(Equals(s['pc'],Int(0)), BVUGT(s['y'],BVZero(16)), Equals(BVAnd(s['y'],BVOne(16)),BVOne(16)),Equals(p['pc'],Int(1)),Equals(p['x'],s['x']),Equals(p['y'],s['y']),Equals(p['r'],s['r']))\n",
        "    t02= And(Equals(s['pc'],Int(0)), BVUGT(s['y'],BVZero(16)), NotEquals(BVAnd(s['y'],BVOne(16)),BVOne(16)),Equals(p['pc'],Int(2)),Equals(p['x'],s['x']),Equals(p['y'],s['y']),Equals(p['r'],s['r']))\n",
        "    t12= And(Equals(s['pc'],Int(1)), Equals(p['pc'],Int(2)),Equals(p['x'],s['x']),Equals(p['y'],s['y']-BVOne(16)), Equals(p['r'],s['r']+s['x']))\n",
        "    t20= And(Equals(s['pc'],Int(2)), Equals(p['pc'],Int(0)),Equals(p['x'],BVLShl(s['x'],1)), Equals(p['y'],BVLShr(s['y'],1)),Equals(p['r'],s['r']))\n",
        "    return Or([t03,t01,t02,t12,t20])\n",
        "\n",
        "def kinduction(declare,init,trans,inv,k):\n",
        "    s = Solver(name='z3')\n",
        "    \n",
        "    traco = [declare(i) for i in range(k+1)]\n",
        "\n",
        "    s.add_assertion(init(traco[0]))\n",
        "\n",
        "    for i in range(k-1):\n",
        "        s.add_assertion(trans(traco[i],traco[i+1]))\n",
        "    \n",
        "    s.add_assertion(Or([Not(inv(traco[i])) for i in range(k)]))\n",
        "    \n",
        "    r = s.solve()\n",
        "\n",
        "    if r == True:\n",
        "        m = s.get_model()\n",
        "        print(\"A proposição falha no caso de base que começa em\")\n",
        "        for x in range(k):\n",
        "            for v in traco[0]:\n",
        "                print(v,\"=\",m.get_value([traco[0][v]]))\n",
        "        return\n",
        "    \n",
        "    s = Solver(name='z3')\n",
        "\n",
        "    for i in range(k):\n",
        "        s.add_assertion(trans(traco[i],traco[i+1]))\n",
        "        s.add_assertion(inv(traco[i]))\n",
        "    \n",
        "    s.add_assertion(Not(inv(traco[k])))\n",
        "    \n",
        "    r = s.solve()\n",
        "\n",
        "    if r == True:\n",
        "        m = s.model()\n",
        "        print(\"A proposição falha no k passo indutivo com inicio em\")\n",
        "        for v in traco[0]:\n",
        "            print(v,\"=\",m.get_value([traco[0][v]]))\n",
        "        return\n",
        "\n",
        "    if r == False:\n",
        "        print(\"A propriedade verificou-se\")\n",
        "        return\n",
        "\n"
      ],
      "metadata": {
        "id": "J0yBBHSyqw0X"
      },
      "execution_count": 126,
      "outputs": []
    },
    {
      "cell_type": "code",
      "source": [
        "def variante(estado):\n",
        "    return Ite(Equals(estado['pc'],Int(3)),BVZero(16),BVAdd(estado['y'],BVOne(16)))\n",
        "\n",
        "def positivo(estado):\n",
        "    return BVUGE(variante(estado),BVZero(16))\n",
        "\n",
        "kinduction(declare,init,trans,positivo,10)\n",
        "\n",
        "def decresce(estado):\n",
        "    estado_um = declare(-1)\n",
        "    estado_dois = declare(-2)\n",
        "    estado_tres = declare(-3)\n",
        "    lista = list(estado_um.values())+list(estado_dois.values())+list(estado_tres.values())\n",
        "    return ForAll(lista,Implies(And(trans(estado,estado_um),trans(estado_um,estado_dois),trans(estado_dois,estado_tres)),Or(BVULT(variante(estado_tres),variante(estado)),Equals(variante(estado_tres),BVZero(16)))))\n",
        "\n",
        "kinduction(declare,init,trans,decresce,15)\n",
        "\n",
        "def util(estado):\n",
        "    return Implies(Equals(variante(estado),BVZero(16)),Equals(estado['pc'],Int(3)))\n",
        "for j in range(3,10,1):\n",
        "    kinduction(declare,init,trans,util,j)"
      ],
      "metadata": {
        "colab": {
          "base_uri": "https://localhost:8080/"
        },
        "id": "2i42prJsrp90",
        "outputId": "9fb79fa6-470e-4b5c-b3e3-809edbd79750"
      },
      "execution_count": 134,
      "outputs": [
        {
          "output_type": "stream",
          "name": "stdout",
          "text": [
            "A propriedade verifica-se\n",
            "A propriedade verifica-se\n",
            "A propriedade verifica-se\n",
            "A propriedade verifica-se\n",
            "A propriedade verifica-se\n",
            "A propriedade verifica-se\n",
            "A propriedade verifica-se\n",
            "A propriedade verifica-se\n",
            "A propriedade verifica-se\n"
          ]
        }
      ]
    }
  ]
}