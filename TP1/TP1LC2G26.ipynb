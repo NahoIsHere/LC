{
 "cells": [
  {
   "cell_type": "markdown",
   "id": "803c5da2",
   "metadata": {},
   "source": [
    "# Trabalho Prático 1"
   ]
  },
  {
   "cell_type": "markdown",
   "id": "36faaa84",
   "metadata": {},
   "source": [
    " ### Ex.2 : Sudoku\n"
   ]
  },
  {
   "cell_type": "markdown",
   "id": "d0895978",
   "metadata": {},
   "source": [
    "\n",
    "O jogo “Sudoku” é generalizado para a dimensão tradicional $N=3$. O objetivo do Sudoku é preencher uma grelha de $\\,N^2\\times N^2\\,$ com inteiros positivos no intervalo $\\,1$ até $\\,N^2\\,$, satisfazendo as seguintes regras:\n",
    " - Cada inteiro no intervalo $\\,1$ até $\\,N^2\\,$ocorre  só uma vez em cada coluna, linha e secção $\\,N\\times N\\,$.\n",
    " - No início do jogo uma fração $\\,0\\leq \\alpha< 1\\,$ das $\\,N^4\\,$ casas da grelha são preenchidas de forma consistente com a regra anterior."
   ]
  },
  {
   "cell_type": "markdown",
   "id": "b06c70e1",
   "metadata": {},
   "source": [
    "Inicialização da grelha através de N e alpha e criação da instância do solver para resolver o problema:"
   ]
  },
  {
   "cell_type": "code",
   "execution_count": 658,
   "id": "29b89be7",
   "metadata": {},
   "outputs": [],
   "source": [
    "from ortools.linear_solver import pywraplp\n",
    "# Criar a instância do solver para definir o horário\n",
    "sudoku_solver = pywraplp.Solver.CreateSolver('SCIP')\n",
    "#Variáveis para a resolução\n",
    "N = 3\n",
    "alpha = 0.2\n",
    "\n",
    "#Criar a matriz\n",
    "grelha = {}\n",
    "for l in range(1,N*N+1):\n",
    "    grelha[l] = {}\n",
    "    for c in range(1,N*N+1):\n",
    "        grelha[l][c] = {}\n",
    "        for n in range(1,N*N+1):\n",
    "            grelha[l][c][n] = sudoku_solver.BoolVar('grelha[%i][%i][%i]' % (l,c,n))"
   ]
  },
  {
   "cell_type": "markdown",
   "id": "60ad4370",
   "metadata": {},
   "source": [
    "Numa linha (l), cada número (n) aparece uma e só uma vez. Então, em cada linha, o sumatório do número de vezes que n aparece é 1.\n",
    "$$\\forall_{l}. \\forall_{n}. \\sum_{c = 1}^{N^2} grelha_{l,c,n} = 1$$"
   ]
  },
  {
   "cell_type": "code",
   "execution_count": 659,
   "id": "79abe1b6",
   "metadata": {},
   "outputs": [],
   "source": [
    "#Cada número só aparece uma vez na linha\n",
    "for l in range(1,N*N+1):\n",
    "    for n in range(1,N*N+1):\n",
    "        sudoku_solver.Add(sum([grelha[l][c][n] for c in range(1,N*N+1)]) == 1)"
   ]
  },
  {
   "cell_type": "markdown",
   "id": "db61add2",
   "metadata": {},
   "source": [
    "Numa coluna (c), cada número (n) aparece uma e só uma vez. Então, em cada coluna, o sumatório do número de vezes que n aparece é 1.\n",
    "$$\\forall_{c}. \\forall_{n}. \\sum_{l = 1}^{N^2} grelha_{l,c,n} = 1$$"
   ]
  },
  {
   "cell_type": "code",
   "execution_count": 660,
   "id": "71d5d54a",
   "metadata": {},
   "outputs": [],
   "source": [
    "#Cada número só aparece uma vez na coluna\n",
    "for c in range(1,N*N+1):\n",
    "    for n in range(1,N*N+1):\n",
    "        sudoku_solver.Add(sum([grelha[l][c][n] for l in range(1,N*N+1)]) == 1)"
   ]
  },
  {
   "cell_type": "markdown",
   "id": "a7fa83f0",
   "metadata": {},
   "source": [
    "Em cada quadrado de N por N, cada número (n) aparece uma e só uma vez. Então, em cada quadrado, o sumatório do número de vezes que n aparece é 1. Sendo que, para verificar esse acontecimento, usamos p e q que variam entre 1 e N-1, multiplicando por N, de seguida, subtraindo N e por fim somando 1, o que nos dá os limites do quadrado em questão.\n",
    "$$\\forall_{l}. \\forall_{c}. \\forall_{n}. \\forall_{q}.\\forall_{p}.\\sum_{n = 1}^{N^2} grelha_{l,c,n,q,p} = 1$$"
   ]
  },
  {
   "cell_type": "code",
   "execution_count": 661,
   "id": "f111b83e",
   "metadata": {},
   "outputs": [],
   "source": [
    "#Cada número só aparece uma vez no quadrado N*N\n",
    "for n in range(1,N*N+1):\n",
    "    for q in range(1,N):\n",
    "        for p in range(1,N):\n",
    "            sudoku_solver.Add(sum([grelha[l][c][n] for l in range(N*p-N+1,N*p+1) for c in range(N*q-N+1,N*q+1)]) == 1)"
   ]
  },
  {
   "cell_type": "markdown",
   "id": "d2f44c4a",
   "metadata": {},
   "source": [
    "Numa casa (l)(c), cada número (n) aparece uma e só uma vez. Então, em cada casa, o sumatório do número de vezes que n aparece é 1.\n",
    "$$\\forall_{l}.\\forall_{c}. \\sum_{n = 1}^{N^2}grelha_{l,c,n} = 1$$"
   ]
  },
  {
   "cell_type": "code",
   "execution_count": 662,
   "id": "c960a510",
   "metadata": {},
   "outputs": [],
   "source": [
    "#Todas as casas têm de ter um número associado\n",
    "for l in range(1,N*N+1):\n",
    "    for c in range(1,N*N+1):\n",
    "        sudoku_solver.Add(sum([grelha[l][c][n] for n in range(1,N*N+1)]) == 1)"
   ]
  },
  {
   "cell_type": "markdown",
   "id": "11c0be67",
   "metadata": {},
   "source": [
    "Construir um programa para inicializar a grelha a partir dos parâmetros $N$ e $\\alpha$."
   ]
  },
  {
   "cell_type": "markdown",
   "id": "db4ede03",
   "metadata": {},
   "source": [
    "O programa utiliza o solver para resolver o problema e, em seguida, utilizando o $\\alpha$ multiplicamos por N^4 para sabermos o número de casas que serão inicializadas. Enquanto esse valor não é atingido, são escolhidos números aleatóriamente e guardados na matriz $known$ para serem impressos na grelha inicial. "
   ]
  },
  {
   "cell_type": "code",
   "execution_count": 663,
   "id": "5909acfe",
   "metadata": {},
   "outputs": [
    {
     "name": "stdout",
     "output_type": "stream",
     "text": [
      " 1  *  8  *  *  *  4  3  *\n",
      " *  5  4  *  3  *  *  6  *\n",
      " *  3  *  *  *  *  *  *  *\n",
      " *  *  6  *  *  *  *  *  *\n",
      " *  4  *  *  *  *  *  *  *\n",
      " *  *  *  *  9  *  *  *  *\n",
      " *  *  9  *  *  *  *  *  *\n",
      " *  *  7  *  *  *  2  *  *\n",
      " *  1  *  *  *  *  *  *  *\n"
     ]
    }
   ],
   "source": [
    "import random\n",
    "#Invocar o solver para criar a grelha inicial\n",
    "status = sudoku_solver.Solve()\n",
    "#criar a matriz para guardar os valores conhecidos(iniciais)\n",
    "known = {}\n",
    "for l in range(1,N*N+1):\n",
    "    known[l] = {}\n",
    "    for c in range(1,N*N+1):\n",
    "        known[l][c] = 0\n",
    "\n",
    "#Se possivel preencher a grelha inicial\n",
    "if status == pywraplp.Solver.OPTIMAL:\n",
    "    #Invocar números random para as linhas e colunas\n",
    "    for i in range(1,round(alpha*N*N*N*N)+1):\n",
    "        l = random.randint(1,N*N)\n",
    "        c = random.randint(1,N*N)\n",
    "        while(known[l][c] != 0):\n",
    "            l = random.randint(1,N*N)\n",
    "            c = random.randint(1,N*N)\n",
    "        for n in range(1,N*N+1):\n",
    "            #Para uma linha e coluna, verificar qual o número da própria e guardar na matriz\n",
    "            if grelha[l][c][n].solution_value() == 1:\n",
    "                known[l][c] = n\n",
    "    #Programa que percorre a matriz para imprimir os valores '*' no caso de ser 0(Não tem número associado) e n se houver número\n",
    "    for l in range(1,N*N+1):\n",
    "        for c in range(1,N*N+1):\n",
    "            if c != N*N:\n",
    "                if known[l][c] == 0:\n",
    "                    print(' *',end=' ')\n",
    "                else:\n",
    "                    if known[l][c] < 10:\n",
    "                        print('',known[l][c], end=' ')\n",
    "                    else:\n",
    "                        print(known[l][c], end=' ')\n",
    "            else:\n",
    "                if known[l][c] == 0:\n",
    "                    print(' *')\n",
    "                else:\n",
    "                    print('',known[l][c])\n",
    "                    \n",
    "else:\n",
    "    print('Erro')\n",
    "                    \n",
    "        "
   ]
  },
  {
   "cell_type": "markdown",
   "id": "86282e4e",
   "metadata": {},
   "source": [
    "Output"
   ]
  },
  {
   "cell_type": "markdown",
   "id": "d850288a",
   "metadata": {},
   "source": [
    "Utilizando as regras do enunciado, imprime o sudoku resolvido."
   ]
  },
  {
   "cell_type": "code",
   "execution_count": 664,
   "id": "1010c3ce",
   "metadata": {},
   "outputs": [
    {
     "name": "stdout",
     "output_type": "stream",
     "text": [
      "-------------------------------------\n",
      "|  1  9  8  |  7  6  5  |  4  3  2  |\n",
      "|  7  5  4  |  9  3  2  |  8  6  1  |\n",
      "|  6  3  2  |  8  4  1  |  9  7  5  |\n",
      "-------------------------------------\n",
      "|  9  7  6  |  5  2  8  |  3  1  4  |\n",
      "|  8  4  3  |  6  1  7  |  5  2  9  |\n",
      "|  5  2  1  |  4  9  3  |  7  8  6  |\n",
      "-------------------------------------\n",
      "|  4  8  9  |  2  7  6  |  1  5  3  |\n",
      "|  3  6  7  |  1  5  9  |  2  4  8  |\n",
      "|  2  1  5  |  3  8  4  |  6  9  7  |\n",
      "-------------------------------------\n"
     ]
    }
   ],
   "source": [
    "#Variáveis para o auxilio da impressão do sudoku\n",
    "p = 1\n",
    "o = 1\n",
    "#Se existir resultado imprimir o sudoku\n",
    "if status == pywraplp.Solver.OPTIMAL:\n",
    "    #Impressão do sudoku\n",
    "    for l in range(1,N*N+1):\n",
    "        for c in range(1,N*N+1):\n",
    "            for n in range(1,N*N+1):\n",
    "                if grelha[l][c][n].solution_value() == 1:\n",
    "                    if (l == 1  and c == 1):\n",
    "                        for t in range(1,N*N*3+N*2+N+1):\n",
    "                            print('-',end='')\n",
    "                        print('-')\n",
    "                    if l == N*o+1:\n",
    "                        for t in range(1,N*N*3+N*2+N+1):\n",
    "                            print('-',end='')\n",
    "                        print('-')\n",
    "                        o += 1\n",
    "                    if c == 1:\n",
    "                        if n < 10:\n",
    "                            print('| ', n,end=' ')\n",
    "                        else:\n",
    "                            print('|', n,end=' ')\n",
    "                    elif c == N*N:\n",
    "                        if n < 10:\n",
    "                            print('',n,end='  |\\n')\n",
    "                            p = 1\n",
    "                        else:\n",
    "                            print(n,end='  |\\n')\n",
    "                            p = 1\n",
    "                    elif c != N*N and c != N*p:\n",
    "                        if n < 10:\n",
    "                            print('',n, end=' ')\n",
    "                        else:\n",
    "                            print(n,end=' ')  \n",
    "                    else:\n",
    "                        if n < 10:\n",
    "                            print('',n, end='  | ')\n",
    "                        else:\n",
    "                            print(n, end='  | ')\n",
    "                        p +=1\n",
    "    for t in range(1,N*N*3+N*2+N+1):\n",
    "        print('-',end='')\n",
    "    print('-')\n",
    "else:\n",
    "    print('Erro')"
   ]
  },
  {
   "cell_type": "markdown",
   "id": "445930c4",
   "metadata": {},
   "source": [
    "À medida que o trabalho foi realizado verificamos que, com o aumento do N e do alpha, a complexidade do problema aumenta e, com isto, o tempo de execução aumenta exponencialmente, notando-se logo apartir de N=5 que, apesar de executar, já tem um longo tempo de espera, mas principalmente em N = 6 que se torna inviável o uso de um solver (programação linear) para a resolução do sudoku devido ao excessivo tempo de espera.\n"
   ]
  }
 ],
 "metadata": {
  "kernelspec": {
   "display_name": "Python 3 (ipykernel)",
   "language": "python",
   "name": "python3"
  },
  "language_info": {
   "codemirror_mode": {
    "name": "ipython",
    "version": 3
   },
   "file_extension": ".py",
   "mimetype": "text/x-python",
   "name": "python",
   "nbconvert_exporter": "python",
   "pygments_lexer": "ipython3",
   "version": "3.9.6"
  }
 },
 "nbformat": 4,
 "nbformat_minor": 5
}
