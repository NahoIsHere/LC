{
 "cells": [
  {
   "cell_type": "markdown",
   "id": "87744095",
   "metadata": {},
   "source": [
    "# Trabalho Prático 1"
   ]
  },
  {
   "cell_type": "markdown",
   "id": "a9d2005e",
   "metadata": {},
   "source": [
    " ### Ex.1 : StartUp"
   ]
  },
  {
   "cell_type": "markdown",
   "id": "8b3baad8",
   "metadata": {},
   "source": [
    "Pretende-se construir um horário semanal para o plano de reuniões de projeto de uma “StartUp” de acordo com algumas restrições:"
   ]
  },
  {
   "cell_type": "code",
   "execution_count": 665,
   "id": "e1cdeb60",
   "metadata": {},
   "outputs": [],
   "source": [
    "from ortools.linear_solver import pywraplp\n",
    "#Variáveis S-salas, D-Dias, T-Tempos, P-Projetos\n",
    "S = 2\n",
    "D = 2\n",
    "T = 2\n",
    "P = 2\n",
    "#Cada projeto tem associado o seu id, o lider, o número de reuniões e uma lista dos colaboradores\n",
    "projetos = {1:[1,2,4],2:[2,2,5]}\n",
    "# Criar a instância do solver para definir o horário\n",
    "horario = pywraplp.Solver.CreateSolver('SCIP')"
   ]
  },
  {
   "cell_type": "markdown",
   "id": "da9f652c",
   "metadata": {},
   "source": [
    "Declaramos a matriz de alocação (x) e colaboradores, como um dicionário de modo a guardar as variáveis\n",
    "p(Id do projeto),\n",
    "d(Dia),\n",
    "t(Tempo) e\n",
    "s(Sala)."
   ]
  },
  {
   "cell_type": "code",
   "execution_count": 666,
   "id": "52c3cdd5",
   "metadata": {
    "scrolled": true
   },
   "outputs": [],
   "source": [
    "#Criar a matriz x para atribuir projeto, dia, tempo e sala da reunião\n",
    "x = {}\n",
    "\n",
    "for p in range(1,P+1):\n",
    "    x[p] = {}\n",
    "    for d in range(1,D+1):\n",
    "        x[p][d] = {}\n",
    "        for t in range(1,T+1):\n",
    "            x[p][d][t] = {}\n",
    "            for s in range(1,S+1):\n",
    "                    x[p][d][t][s] = horario.BoolVar('x[%i][%i][%i][%i]' % (p,d,t,s))\n",
    "\n",
    "#Criar a matriz Colab para armazenar os colaboradores associados a cada projeto\n",
    "colaboradores = {}\n",
    "for p in range(1,P+1):\n",
    "    LC = projetos[p][2]\n",
    "    colaboradores[p] = {}\n",
    "    for d in range(1,D+1):\n",
    "        colaboradores[p][d] = {}\n",
    "        for t in range(1,T+1):\n",
    "            colaboradores[p][d][t] = {}\n",
    "            for c in range(1,LC+1):\n",
    "                colaboradores[p][d][t][c] = {}\n",
    "                for s in range(1,S+1):\n",
    "                    colaboradores[p][d][t][c][s] = horario.BoolVar('x[%i][%i][%i][%i][%i]' % (p,d,t,c,s))\n",
    "#Funções para o auxilio da resolução\n",
    "def X(p,d,t,s):\n",
    "    return x[p][d][t][s]\n",
    "def Colab(p,d,t,c,s):\n",
    "    return colaboradores[p][d][t][c][s]\n",
    "\n",
    "#Matriz completa"
   ]
  },
  {
   "cell_type": "markdown",
   "id": "9b2ab62e",
   "metadata": {},
   "source": [
    "Restrições:"
   ]
  },
  {
   "cell_type": "markdown",
   "id": "902f955c",
   "metadata": {},
   "source": [
    "O líder do projeto participa em todas as reuniões do seu projeto. Sendo que $nr$ é o número de reuniões associado a cada projeto.\n",
    "$$\\forall_{p} .\\sum_{d<=D,t<=T,s<=S}  X_{p,d,t,s} <= nr$$\n",
    "$$\\forall_{p} .\\sum_{d<=D,t<=T,s<=S}  Colab_{p,d,t,lider,s} <= nr$$"
   ]
  },
  {
   "cell_type": "code",
   "execution_count": 667,
   "id": "c3e83c4f",
   "metadata": {},
   "outputs": [],
   "source": [
    "for p in range(1,P+1):\n",
    "    lider = projetos[p][0]\n",
    "    nr = projetos[p][1]\n",
    "    #Verificar que cada projeto se tem o número de reuniões correto\n",
    "    horario.Add(sum([X(p,d,t,s) for d in range(1,D+1) for t in range(1,T+1) for s in range(1,S+1)]) == nr)\n",
    "    #Verificar se o lider de cada projeto está presente em todas as reuniões\n",
    "    horario.Add(sum([Colab(p,d,t,lider,s) for d in range(1,D+1) for t in range(1,T+1) for s in range(1,S+1)]) == nr)"
   ]
  },
  {
   "cell_type": "markdown",
   "id": "74f05598",
   "metadata": {},
   "source": [
    "A sala não pode ser usada por mais de uma reunião ao mesmo tempo.\n",
    "$$\\forall_{s<=S} . \\forall_{d<=D} . \\forall_{t<=T} . \\sum_{p = 0}^{P}  x_{p,d,t,s} <= 1$$\n"
   ]
  },
  {
   "cell_type": "code",
   "execution_count": 668,
   "id": "1a1333cd",
   "metadata": {},
   "outputs": [],
   "source": [
    "#Cada sala não pode ter mais que uma reunião ao mesmo tempo\n",
    "for d in range(1,D+1):\n",
    "    for t in range(1,T+1):\n",
    "        for s in range(1,S+1):\n",
    "            horario.Add(sum([X(p,d,t,s) for p in range(1,P+1)]) <=1)"
   ]
  },
  {
   "cell_type": "markdown",
   "id": "e1da72f3",
   "metadata": {},
   "source": [
    "Cada coloborador não pode estar em mais de uma sala ao mesmo tempo.\n",
    "$$\\forall_{p<=P} . \\forall_{d<=D} . \\forall_{t<=T} . \\sum_{s = 0}^{S}  X_{p,d,t,s} <= nr$$\n",
    "$$\\forall_{p<=P} . \\forall_{d<=D} . \\forall_{t<=T} . \\forall_{c<=C} . \\sum_{s = 0}^{S}  Colab_{p,d,t,c,s} <= 1$$\n"
   ]
  },
  {
   "cell_type": "code",
   "execution_count": 669,
   "id": "cf46efea",
   "metadata": {},
   "outputs": [],
   "source": [
    "for p in range(1,P+1):\n",
    "    C = projetos[p][2]\n",
    "    for c in range(1,C+1):\n",
    "        for d in range(1,D+1):\n",
    "            for t in range(1,T+1):\n",
    "                #Um projeto não pode ter reuniões em mais de uma sala ao mesmo tempo\n",
    "                horario.Add(sum([X(p,d,t,s) for s in range(1,S+1)]) <= nr)\n",
    "                #Um colaborador não pode estar em mais de uma sala ao mesmo tempo\n",
    "                horario.Add(sum([Colab(p,d,t,c,s) for s in range(1,S+1)]) <= 1)\n",
    "    "
   ]
  },
  {
   "cell_type": "markdown",
   "id": "d73819ee",
   "metadata": {},
   "source": [
    "Cada reunião tem de ter presente, no mínimo, 50% dos colaboradores do prejeto em questão.\n",
    "$$\\forall_{p<=P} . \\forall_{d<=D} . \\forall_{t<=T} . \\forall_{s<=S} . \\sum_{c = 0}^{C}  Colab_{p,d,t,c,s} >= X(p,d,t,s) $$"
   ]
  },
  {
   "cell_type": "code",
   "execution_count": 670,
   "id": "5be32bfd",
   "metadata": {},
   "outputs": [],
   "source": [
    "#Tem de estar no mínimo 50% dos colaboradores em cada reunião\n",
    "for p in range(1,P+1):\n",
    "    C = projetos[p][2]\n",
    "    for d in range(1,D+1):\n",
    "        for t in range(1,T+1):\n",
    "            for s in range(1,S+1):\n",
    "                horario.Add(X(p,d,t,s) <= sum([Colab(p,d,t,c,s) for c in range(1,C+1)])/C)\n",
    "                "
   ]
  },
  {
   "cell_type": "code",
   "execution_count": 672,
   "id": "4af632d8",
   "metadata": {
    "scrolled": true
   },
   "outputs": [
    {
     "name": "stdout",
     "output_type": "stream",
     "text": [
      "Projeto Nrº: 1\n",
      "Colaborador: 1 Sala: 1 Dia: 1 Tempo: 1\n",
      "Colaborador: 2 Sala: 1 Dia: 1 Tempo: 1\n",
      "Colaborador: 3 Sala: 1 Dia: 1 Tempo: 1\n",
      "Colaborador: 4 Sala: 1 Dia: 1 Tempo: 1\n",
      "Colaborador: 1 Sala: 1 Dia: 1 Tempo: 2\n",
      "Colaborador: 2 Sala: 1 Dia: 1 Tempo: 2\n",
      "Colaborador: 3 Sala: 1 Dia: 1 Tempo: 2\n",
      "Colaborador: 4 Sala: 1 Dia: 1 Tempo: 2\n",
      "Projeto Nrº: 2\n",
      "Colaborador: 1 Sala: 1 Dia: 2 Tempo: 1\n",
      "Colaborador: 2 Sala: 1 Dia: 2 Tempo: 1\n",
      "Colaborador: 3 Sala: 1 Dia: 2 Tempo: 1\n",
      "Colaborador: 4 Sala: 1 Dia: 2 Tempo: 1\n",
      "Colaborador: 5 Sala: 1 Dia: 2 Tempo: 1\n",
      "Colaborador: 1 Sala: 1 Dia: 2 Tempo: 2\n",
      "Colaborador: 2 Sala: 1 Dia: 2 Tempo: 2\n",
      "Colaborador: 3 Sala: 1 Dia: 2 Tempo: 2\n",
      "Colaborador: 4 Sala: 1 Dia: 2 Tempo: 2\n",
      "Colaborador: 5 Sala: 1 Dia: 2 Tempo: 2\n"
     ]
    }
   ],
   "source": [
    "#Invocar o solver para o horario\n",
    "status = horario.Solve()\n",
    "#Se possivel imprimir o horário\n",
    "if status == pywraplp.Solver.OPTIMAL:\n",
    "    for p in range(1,P+1):\n",
    "        C = projetos[p][2]\n",
    "        print('Projeto Nrº:',p)\n",
    "        for s in range(1,S+1):\n",
    "            for d in range(1,D+1):\n",
    "                for t in range(1,T+1):\n",
    "                    for c in range(1,C+1):\n",
    "                        if round(Colab(p,d,t,c,s).solution_value()) == 1 and round(X(p,d,t,s).solution_value()) == 1:\n",
    "                            print('Colaborador:',c,'Sala:',s,'Dia:',d,'Tempo:',t)\n",
    "                                                \n",
    "else:\n",
    "    print(\"oops...\")"
   ]
  }
 ],
 "metadata": {
  "kernelspec": {
   "display_name": "Python 3 (ipykernel)",
   "language": "python",
   "name": "python3"
  },
  "language_info": {
   "codemirror_mode": {
    "name": "ipython",
    "version": 3
   },
   "file_extension": ".py",
   "mimetype": "text/x-python",
   "name": "python",
   "nbconvert_exporter": "python",
   "pygments_lexer": "ipython3",
   "version": "3.9.6"
  }
 },
 "nbformat": 4,
 "nbformat_minor": 5
}
